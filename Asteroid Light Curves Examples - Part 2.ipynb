{
 "cells": [
  {
   "cell_type": "markdown",
   "metadata": {},
   "source": [
    "# Asteroid Light Curves Examples - Part 2\n",
    "\n",
    "This notebook uses the same asteroid light curve data as part 1 but looks at several unsupervised techniques.\n",
    "\n",
    "## Objectives\n",
    "\n",
    "- Understand several techniques that might be available when you have little or no labeled data."
   ]
  }
 ],
 "metadata": {
  "kernelspec": {
   "display_name": "Python 3",
   "language": "python",
   "name": "python3"
  },
  "language_info": {
   "codemirror_mode": {
    "name": "ipython",
    "version": 3
   },
   "file_extension": ".py",
   "mimetype": "text/x-python",
   "name": "python",
   "nbconvert_exporter": "python",
   "pygments_lexer": "ipython3",
   "version": "3.6.3"
  }
 },
 "nbformat": 4,
 "nbformat_minor": 2
}
